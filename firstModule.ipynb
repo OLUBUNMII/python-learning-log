{
 "cells": [
  {
   "cell_type": "code",
   "execution_count": 1,
   "id": "f033db50-7f75-4a90-bcc0-3da069a2f3cc",
   "metadata": {},
   "outputs": [],
   "source": [
    "def checkIfNotNumeric(*args):\n",
    "    for x in args:\n",
    "        if not(isinstance(x,(int,float))):\n",
    "            return False\n",
    "    return True\n",
    "\n",
    "def addAllNumerics(*args):\n",
    "    s = 0\n",
    "    for x in args:\n",
    "        s+=x\n",
    "    return s\n",
    "\n",
    "myName = \"My Python Learning Path\""
   ]
  },
  {
   "cell_type": "code",
   "execution_count": null,
   "id": "a75fbc72-d37c-40c8-bd66-7d1e95bef8e9",
   "metadata": {},
   "outputs": [],
   "source": []
  }
 ],
 "metadata": {
  "kernelspec": {
   "display_name": "Python [conda env:base] *",
   "language": "python",
   "name": "conda-base-py"
  },
  "language_info": {
   "codemirror_mode": {
    "name": "ipython",
    "version": 3
   },
   "file_extension": ".py",
   "mimetype": "text/x-python",
   "name": "python",
   "nbconvert_exporter": "python",
   "pygments_lexer": "ipython3",
   "version": "3.12.7"
  }
 },
 "nbformat": 4,
 "nbformat_minor": 5
}
