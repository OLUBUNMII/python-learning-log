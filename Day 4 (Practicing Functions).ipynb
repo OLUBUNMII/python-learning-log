{
 "cells": [
  {
   "cell_type": "code",
   "execution_count": 1,
   "id": "6c48adea-1bd3-480d-8a83-632efd7a679e",
   "metadata": {},
   "outputs": [
    {
     "data": {
      "text/plain": [
       "' Given a list of numbers i.e. [1,2,4,-5,7,9,3,2], make another list that contains all the items in sorted order from min to max. \\ni.e. your result will be another list like [-5,1,2,2,3,7,9] '"
      ]
     },
     "execution_count": 1,
     "metadata": {},
     "output_type": "execute_result"
    }
   ],
   "source": [
    "\"\"\" Given a list of numbers i.e. [1,2,4,-5,7,9,3,2], make another list that contains all the items in sorted order from min to max. \n",
    "i.e. your result will be another list like [-5,1,2,2,3,7,9] \"\"\""
   ]
  },
  {
   "cell_type": "code",
   "execution_count": 48,
   "id": "d20b6aac-cae4-427a-ae4b-375f636c1546",
   "metadata": {},
   "outputs": [],
   "source": [
    "def findMin(L,startIndx):\n",
    "    m = L[startIndx]\n",
    "    idx = startIndx\n",
    "    for i in range(startIndx,len(L)):\n",
    "        x = L[i]\n",
    "        if x<m:\n",
    "            m = x\n",
    "            idx = i\n",
    "        else:\n",
    "            pass\n",
    "    return m,idx"
   ]
  },
  {
   "cell_type": "code",
   "execution_count": 4,
   "id": "860be1ef-e6e0-47be-9ccf-99d2a5d4deaf",
   "metadata": {},
   "outputs": [],
   "source": [
    "a,b = findMin([2,3,4,0,9])"
   ]
  },
  {
   "cell_type": "code",
   "execution_count": 6,
   "id": "538c1a5c-1cdd-435c-9298-3b08b98c9420",
   "metadata": {},
   "outputs": [
    {
     "name": "stdout",
     "output_type": "stream",
     "text": [
      "0 3\n"
     ]
    }
   ],
   "source": [
    "print(a,b)"
   ]
  },
  {
   "cell_type": "code",
   "execution_count": 8,
   "id": "aac4d612-327f-4b19-a311-2aa17310fb8e",
   "metadata": {},
   "outputs": [],
   "source": [
    "def swapValues(L,idx1,idx2):\n",
    "    tmp = L[idx1]\n",
    "    L[idx1] = L[idx2]\n",
    "    L[idx2] = tmp\n",
    "    return L"
   ]
  },
  {
   "cell_type": "code",
   "execution_count": 10,
   "id": "d04462e0-79e9-4a96-97a9-24f856122a65",
   "metadata": {},
   "outputs": [
    {
     "name": "stdout",
     "output_type": "stream",
     "text": [
      "[2, 7, 6, 3]\n"
     ]
    }
   ],
   "source": [
    "L = [2,3,6,7]\n",
    "L2 = swapValues(L,1,3)\n",
    "print(L2)"
   ]
  },
  {
   "cell_type": "code",
   "execution_count": 22,
   "id": "d15fc179-197b-4bc6-bb67-36dd88e32d44",
   "metadata": {},
   "outputs": [],
   "source": [
    "def checkIfNotNumeric2(L):\n",
    "    for x in L:\n",
    "        if not(isinstance(x,(int,float))):\n",
    "            return False\n",
    "    return True"
   ]
  },
  {
   "cell_type": "code",
   "execution_count": 40,
   "id": "799f7ce2-7150-4e8b-92b7-f320ca7651d8",
   "metadata": {},
   "outputs": [],
   "source": [
    "from firstModule import checkIfNotNumeric\n",
    "def sortList(L):\n",
    "    if not(checkIfNotNumeric2(L)):\n",
    "        print(\"Error: List does not contain numeric values\")\n",
    "        return\n",
    "    else:\n",
    "        c = 0\n",
    "        for x in L:\n",
    "            m,idx = findMin(L,c)\n",
    "            L = swapValues(L,c,idx)\n",
    "            c+=1\n",
    "    return L"
   ]
  },
  {
   "cell_type": "code",
   "execution_count": 50,
   "id": "f9cf5320-41be-4e3c-b74a-26be2941eb8d",
   "metadata": {},
   "outputs": [
    {
     "name": "stdout",
     "output_type": "stream",
     "text": [
      "[-8, 1, 2, 3, 5, 17]\n"
     ]
    }
   ],
   "source": [
    "L2 = sortList([2,1,5,3,-8,17])\n",
    "print(L2)"
   ]
  },
  {
   "cell_type": "code",
   "execution_count": 34,
   "id": "28ca46cd-a30d-487f-8eb3-df3e3ff615fe",
   "metadata": {},
   "outputs": [
    {
     "name": "stdout",
     "output_type": "stream",
     "text": [
      "True\n"
     ]
    }
   ],
   "source": [
    "print(checkIfNotNumeric2([2,1,5,3,8,17]))"
   ]
  },
  {
   "cell_type": "code",
   "execution_count": null,
   "id": "07eab2e8-8e5d-45c6-97cb-19743aff742b",
   "metadata": {},
   "outputs": [],
   "source": []
  }
 ],
 "metadata": {
  "kernelspec": {
   "display_name": "Python [conda env:base] *",
   "language": "python",
   "name": "conda-base-py"
  },
  "language_info": {
   "codemirror_mode": {
    "name": "ipython",
    "version": 3
   },
   "file_extension": ".py",
   "mimetype": "text/x-python",
   "name": "python",
   "nbconvert_exporter": "python",
   "pygments_lexer": "ipython3",
   "version": "3.12.7"
  }
 },
 "nbformat": 4,
 "nbformat_minor": 5
}
