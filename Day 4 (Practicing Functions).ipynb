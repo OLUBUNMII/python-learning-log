{
 "cells": [
  {
   "cell_type": "code",
   "execution_count": 1,
   "id": "6c48adea-1bd3-480d-8a83-632efd7a679e",
   "metadata": {},
   "outputs": [
    {
     "data": {
      "text/plain": [
       "' Given a list of numbers i.e. [1,2,4,-5,7,9,3,2], make another list that contains all the items in sorted order from min to max. \\ni.e. your result will be another list like [-5,1,2,2,3,7,9] '"
      ]
     },
     "execution_count": 1,
     "metadata": {},
     "output_type": "execute_result"
    }
   ],
   "source": [
    "\"\"\" Given a list of numbers i.e. [1,2,4,-5,7,9,3,2], make another list that contains all the items in sorted order from min to max. \n",
    "i.e. your result will be another list like [-5,1,2,2,3,7,9] \"\"\""
   ]
  },
  {
   "cell_type": "code",
   "execution_count": null,
   "id": "d20b6aac-cae4-427a-ae4b-375f636c1546",
   "metadata": {},
   "outputs": [],
   "source": []
  }
 ],
 "metadata": {
  "kernelspec": {
   "display_name": "Python [conda env:base] *",
   "language": "python",
   "name": "conda-base-py"
  },
  "language_info": {
   "codemirror_mode": {
    "name": "ipython",
    "version": 3
   },
   "file_extension": ".py",
   "mimetype": "text/x-python",
   "name": "python",
   "nbconvert_exporter": "python",
   "pygments_lexer": "ipython3",
   "version": "3.12.7"
  }
 },
 "nbformat": 4,
 "nbformat_minor": 5
}
