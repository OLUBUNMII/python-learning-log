{
 "cells": [
  {
   "cell_type": "markdown",
   "id": "c0b828d9-af7c-4183-91b0-013dced81404",
   "metadata": {},
   "source": [
    "#Data Structures"
   ]
  },
  {
   "cell_type": "code",
   "execution_count": 5,
   "id": "c6738403-791a-4b72-be64-b49d61658296",
   "metadata": {},
   "outputs": [
    {
     "data": {
      "text/plain": [
       "'\\n1. Unordered\\n2. Changeable\\n3. No Duplicate\\n'"
      ]
     },
     "execution_count": 5,
     "metadata": {},
     "output_type": "execute_result"
    }
   ],
   "source": [
    "#List\n",
    "\"\"\"\n",
    "1. Ordered (Indexable)\n",
    "2. Changeable (Mutable) \n",
    "3. Duplicates in Posistion Indexes\n",
    "\"\"\"\n",
    "#Tuple\n",
    "\"\"\"\n",
    "1. Ordered\n",
    "2. Unchangeable\n",
    "3. Duplicates in Position Indexes\n",
    "\"\"\"\n",
    "#Set\n",
    "\"\"\"\n",
    "1. Unordered (No position Index)\n",
    "2. Addable/Removable (Because theres no Indexing you cannot change it, however you can add existing elements and you can remove existing elements)\n",
    "3. No Duplicates (In mathematics, sets do not contain duplicates)\n",
    "\"\"\"\n",
    "#Dictionary\n",
    "\"\"\"\n",
    "1. Unordered\n",
    "2. Changeable\n",
    "3. No Duplicate\n",
    "\"\"\""
   ]
  },
  {
   "cell_type": "code",
   "execution_count": 7,
   "id": "8bbb0058-489a-4d8d-96cc-b301c611ff38",
   "metadata": {},
   "outputs": [],
   "source": [
    "L = [1,3,4.9,\"name\",3]\n",
    "T = (1,3,4.9,\"name\",3)\n",
    "S = {1,3,4.9,\"name\",3}\n",
    "D = {23:\"twothree\",'B':43,'C':'CCD'}"
   ]
  },
  {
   "cell_type": "code",
   "execution_count": 9,
   "id": "1ce3b323-4443-48fd-9b1a-7e7912bff21f",
   "metadata": {},
   "outputs": [
    {
     "name": "stdout",
     "output_type": "stream",
     "text": [
      "The type of L is  <class 'list'>\n",
      "The type of T is  <class 'tuple'>\n",
      "The type of S is  <class 'set'>\n",
      "The type of D is  <class 'dict'>\n"
     ]
    }
   ],
   "source": [
    "print(\"The type of L is \", type(L))\n",
    "print(\"The type of T is \", type(T))\n",
    "print(\"The type of S is \", type(S))\n",
    "print(\"The type of D is \", type(D))"
   ]
  },
  {
   "cell_type": "code",
   "execution_count": 13,
   "id": "a0084adf-a3c1-42d0-bec5-fa910d98be5c",
   "metadata": {},
   "outputs": [
    {
     "name": "stdout",
     "output_type": "stream",
     "text": [
      "4.9\n",
      "4.9\n",
      "True\n",
      "43\n"
     ]
    }
   ],
   "source": [
    "print(L[2])\n",
    "print(T[2])\n",
    "print(4.9 in S)\n",
    "print(D['B'])"
   ]
  },
  {
   "cell_type": "code",
   "execution_count": 19,
   "id": "3d9e7adf-4916-4f4e-8ca5-d95614082d26",
   "metadata": {},
   "outputs": [
    {
     "data": {
      "text/plain": [
       "[1, 3, 4.9, 'name', 3]"
      ]
     },
     "execution_count": 19,
     "metadata": {},
     "output_type": "execute_result"
    }
   ],
   "source": [
    "L #indexing for this is [1(0),3(1),4.9(2),'name'(3),3(4)]"
   ]
  },
  {
   "cell_type": "code",
   "execution_count": 17,
   "id": "298a80f7-705b-416e-91f4-6b116a4aee61",
   "metadata": {},
   "outputs": [
    {
     "data": {
      "text/plain": [
       "[3, 4.9]"
      ]
     },
     "execution_count": 17,
     "metadata": {},
     "output_type": "execute_result"
    }
   ],
   "source": [
    "L[1:3]"
   ]
  },
  {
   "cell_type": "code",
   "execution_count": 21,
   "id": "01f254db-3c66-4136-9e40-2457cc51344f",
   "metadata": {},
   "outputs": [
    {
     "data": {
      "text/plain": [
       "[3, 'name', 4.9, 3, 1]"
      ]
     },
     "execution_count": 21,
     "metadata": {},
     "output_type": "execute_result"
    }
   ],
   "source": [
    "L[::-1]"
   ]
  },
  {
   "cell_type": "code",
   "execution_count": 23,
   "id": "ecb514b1-527e-42b3-963b-cf1517f52ef0",
   "metadata": {},
   "outputs": [
    {
     "data": {
      "text/plain": [
       "(1, 3, 4.9)"
      ]
     },
     "execution_count": 23,
     "metadata": {},
     "output_type": "execute_result"
    }
   ],
   "source": [
    "T[:3]"
   ]
  },
  {
   "cell_type": "code",
   "execution_count": 25,
   "id": "b77b7f35-25fe-485c-98c0-f1592f93825a",
   "metadata": {},
   "outputs": [
    {
     "data": {
      "text/plain": [
       "[1, 3, 4.9, 'name', 3]"
      ]
     },
     "execution_count": 25,
     "metadata": {},
     "output_type": "execute_result"
    }
   ],
   "source": [
    " L"
   ]
  },
  {
   "cell_type": "code",
   "execution_count": 29,
   "id": "26990c18-a1e6-4f26-8312-c086cc98973e",
   "metadata": {},
   "outputs": [],
   "source": [
    "L =L + [\"how\",\"are\",6,\"you\"]"
   ]
  },
  {
   "cell_type": "code",
   "execution_count": 31,
   "id": "75c2201d-2e3e-4d99-acd2-e1d39d37ed43",
   "metadata": {},
   "outputs": [
    {
     "data": {
      "text/plain": [
       "[1, 3, 4.9, 'name', 3, 'how', 'are', 6, 'you']"
      ]
     },
     "execution_count": 31,
     "metadata": {},
     "output_type": "execute_result"
    }
   ],
   "source": [
    "L"
   ]
  },
  {
   "cell_type": "code",
   "execution_count": 35,
   "id": "f451610a-f7fb-417f-9063-78324f04b0b7",
   "metadata": {},
   "outputs": [],
   "source": [
    "L.append(8.9)"
   ]
  },
  {
   "cell_type": "code",
   "execution_count": 37,
   "id": "cd00ef2f-92d4-4cb0-94e9-148b0295fb97",
   "metadata": {},
   "outputs": [
    {
     "data": {
      "text/plain": [
       "[1, 3, 4.9, 'name', 3, 'how', 'are', 6, 'you', 8.9]"
      ]
     },
     "execution_count": 37,
     "metadata": {},
     "output_type": "execute_result"
    }
   ],
   "source": [
    "L"
   ]
  },
  {
   "cell_type": "code",
   "execution_count": 39,
   "id": "7570faa6-5c18-4cf6-bc25-59854efbacbc",
   "metadata": {},
   "outputs": [],
   "source": [
    "T2 = (\"how\",\"are\",6,\"you\")\n",
    "T3 = T + T2  #to concatenate two tuples, use the '+' operation."
   ]
  },
  {
   "cell_type": "code",
   "execution_count": 41,
   "id": "a56cb5c3-077e-448f-ba85-37d4dafc46cf",
   "metadata": {},
   "outputs": [
    {
     "data": {
      "text/plain": [
       "(1, 3, 4.9, 'name', 3, 'how', 'are', 6, 'you')"
      ]
     },
     "execution_count": 41,
     "metadata": {},
     "output_type": "execute_result"
    }
   ],
   "source": [
    "T3"
   ]
  },
  {
   "cell_type": "code",
   "execution_count": 43,
   "id": "5739b5d1-cafd-4f74-970e-5dc44eff3790",
   "metadata": {},
   "outputs": [
    {
     "data": {
      "text/plain": [
       "{1, 3, 4.9, 'name'}"
      ]
     },
     "execution_count": 43,
     "metadata": {},
     "output_type": "execute_result"
    }
   ],
   "source": [
    "S"
   ]
  },
  {
   "cell_type": "code",
   "execution_count": 45,
   "id": "80124698-0859-448c-a4e4-f42f168cb203",
   "metadata": {},
   "outputs": [],
   "source": [
    "S.add(56) #to add a single value to the set, use .add"
   ]
  },
  {
   "cell_type": "code",
   "execution_count": 47,
   "id": "fd01f13b-8ab0-4833-84e9-635664b77fc5",
   "metadata": {},
   "outputs": [
    {
     "data": {
      "text/plain": [
       "{1, 3, 4.9, 56, 'name'}"
      ]
     },
     "execution_count": 47,
     "metadata": {},
     "output_type": "execute_result"
    }
   ],
   "source": [
    "S"
   ]
  },
  {
   "cell_type": "code",
   "execution_count": 49,
   "id": "0156f47d-6276-441c-bae7-47e2624f6a5f",
   "metadata": {},
   "outputs": [],
   "source": [
    "S.update({23,\"game\",3})  #to add multiple values to the set, use .update"
   ]
  },
  {
   "cell_type": "code",
   "execution_count": 51,
   "id": "d40bd0f1-5b68-4f6e-a247-bf4511d66ffa",
   "metadata": {},
   "outputs": [
    {
     "data": {
      "text/plain": [
       "{1, 23, 3, 4.9, 56, 'game', 'name'}"
      ]
     },
     "execution_count": 51,
     "metadata": {},
     "output_type": "execute_result"
    }
   ],
   "source": [
    "S"
   ]
  },
  {
   "cell_type": "code",
   "execution_count": 53,
   "id": "ddda78c0-cb55-4811-a859-434e696766b9",
   "metadata": {
    "jupyter": {
     "source_hidden": true
    }
   },
   "outputs": [
    {
     "data": {
      "text/plain": [
       "{23: 'twothree', 'B': 43, 'C': 'CCD'}"
      ]
     },
     "execution_count": 53,
     "metadata": {},
     "output_type": "execute_result"
    }
   ],
   "source": [
    "D"
   ]
  },
  {
   "cell_type": "code",
   "execution_count": 55,
   "id": "555346d0-918e-4cb6-aa34-cd19ec3bffd9",
   "metadata": {},
   "outputs": [],
   "source": [
    "D['newKey'] = \"newValue\""
   ]
  },
  {
   "cell_type": "code",
   "execution_count": 57,
   "id": "75213c05-44c6-4829-878d-a8265e0e801a",
   "metadata": {},
   "outputs": [
    {
     "data": {
      "text/plain": [
       "{23: 'twothree', 'B': 43, 'C': 'CCD', 'newKey': 'newValue'}"
      ]
     },
     "execution_count": 57,
     "metadata": {},
     "output_type": "execute_result"
    }
   ],
   "source": [
    "D"
   ]
  },
  {
   "cell_type": "code",
   "execution_count": 75,
   "id": "abfe814c-8b71-4060-b537-f92cae1f94ac",
   "metadata": {},
   "outputs": [],
   "source": [
    "D2 = {\"y\":\"YY\",\"z\":10}\n",
    "D3 =D | D2  #to concatenate two dictionaries, you use the '|' operator, you could also use '.update'"
   ]
  },
  {
   "cell_type": "code",
   "execution_count": 123,
   "id": "0f7a79a6-1f60-4744-957f-d6b8a08153fa",
   "metadata": {},
   "outputs": [],
   "source": [
    "#help(D)"
   ]
  },
  {
   "cell_type": "code",
   "execution_count": 73,
   "id": "2efe943e-d6c7-4611-9795-c7eca81d7200",
   "metadata": {},
   "outputs": [
    {
     "data": {
      "text/plain": [
       "{23: 'twothree', 'B': 43, 'C': 'CCD', 'newKey': 'newValue', 'y': 'YY', 'z': 10}"
      ]
     },
     "execution_count": 73,
     "metadata": {},
     "output_type": "execute_result"
    }
   ],
   "source": [
    "D3"
   ]
  },
  {
   "cell_type": "code",
   "execution_count": 79,
   "id": "31e66cc3-9e0e-4726-9302-65b74182bd7e",
   "metadata": {},
   "outputs": [
    {
     "data": {
      "text/plain": [
       "[1, 3, 4.9, 'name', 3, 'how', 'are', 6, 'you', 8.9]"
      ]
     },
     "execution_count": 79,
     "metadata": {},
     "output_type": "execute_result"
    }
   ],
   "source": [
    "L"
   ]
  },
  {
   "cell_type": "code",
   "execution_count": 81,
   "id": "f883940e-f9c1-44d5-9d47-5836c91939c2",
   "metadata": {},
   "outputs": [],
   "source": [
    "del L[3]"
   ]
  },
  {
   "cell_type": "code",
   "execution_count": 83,
   "id": "65220d63-3b6f-47e3-8c54-e28ce4c13df2",
   "metadata": {},
   "outputs": [
    {
     "data": {
      "text/plain": [
       "[1, 3, 4.9, 3, 'how', 'are', 6, 'you', 8.9]"
      ]
     },
     "execution_count": 83,
     "metadata": {},
     "output_type": "execute_result"
    }
   ],
   "source": [
    "L"
   ]
  },
  {
   "cell_type": "code",
   "execution_count": 85,
   "id": "57de5105-2716-4967-a647-c082e3b3f233",
   "metadata": {},
   "outputs": [
    {
     "data": {
      "text/plain": [
       "{1, 23, 3, 4.9, 56, 'game', 'name'}"
      ]
     },
     "execution_count": 85,
     "metadata": {},
     "output_type": "execute_result"
    }
   ],
   "source": [
    "S"
   ]
  },
  {
   "cell_type": "code",
   "execution_count": 87,
   "id": "7688105c-92c7-4136-88b6-50970d3c2ed0",
   "metadata": {},
   "outputs": [],
   "source": [
    "S.remove('game')"
   ]
  },
  {
   "cell_type": "code",
   "execution_count": 89,
   "id": "8eac3ebf-9f39-4807-8e13-91d01dc8a7d1",
   "metadata": {},
   "outputs": [
    {
     "data": {
      "text/plain": [
       "{1, 23, 3, 4.9, 56, 'name'}"
      ]
     },
     "execution_count": 89,
     "metadata": {},
     "output_type": "execute_result"
    }
   ],
   "source": [
    "S"
   ]
  },
  {
   "cell_type": "code",
   "execution_count": 91,
   "id": "b2e3e5cc-75c4-47f6-b7db-8c285f6fa5c9",
   "metadata": {},
   "outputs": [
    {
     "data": {
      "text/plain": [
       "{23: 'twothree', 'B': 43, 'C': 'CCD', 'newKey': 'newValue'}"
      ]
     },
     "execution_count": 91,
     "metadata": {},
     "output_type": "execute_result"
    }
   ],
   "source": [
    "D"
   ]
  },
  {
   "cell_type": "code",
   "execution_count": 93,
   "id": "51c9926e-5793-4277-b701-88b80df59f68",
   "metadata": {},
   "outputs": [],
   "source": [
    "del D['C']"
   ]
  },
  {
   "cell_type": "code",
   "execution_count": 95,
   "id": "be288f6f-bdb8-43a2-8b6e-b06e7c162c40",
   "metadata": {},
   "outputs": [
    {
     "data": {
      "text/plain": [
       "{23: 'twothree', 'B': 43, 'newKey': 'newValue'}"
      ]
     },
     "execution_count": 95,
     "metadata": {},
     "output_type": "execute_result"
    }
   ],
   "source": [
    "D"
   ]
  },
  {
   "cell_type": "code",
   "execution_count": 97,
   "id": "f89f7621-db45-4336-8586-c5174caee6af",
   "metadata": {},
   "outputs": [
    {
     "data": {
      "text/plain": [
       "[1, 3, 4.9, 3, 'how', 'are', 6, 'you', 8.9]"
      ]
     },
     "execution_count": 97,
     "metadata": {},
     "output_type": "execute_result"
    }
   ],
   "source": [
    "L"
   ]
  },
  {
   "cell_type": "code",
   "execution_count": 99,
   "id": "ad8fadeb-db2c-4008-9e7a-71fb559fa934",
   "metadata": {},
   "outputs": [],
   "source": [
    "L2 = L"
   ]
  },
  {
   "cell_type": "code",
   "execution_count": 101,
   "id": "af4c7222-0907-45c9-9cfe-0f74301e6659",
   "metadata": {},
   "outputs": [
    {
     "data": {
      "text/plain": [
       "[1, 3, 4.9, 3, 'how', 'are', 6, 'you', 8.9]"
      ]
     },
     "execution_count": 101,
     "metadata": {},
     "output_type": "execute_result"
    }
   ],
   "source": [
    "L2"
   ]
  },
  {
   "cell_type": "code",
   "execution_count": 103,
   "id": "dd6c6fb0-076e-4cde-abd5-af9d25b66e0c",
   "metadata": {},
   "outputs": [],
   "source": [
    "L2[2]= \"four point nine\""
   ]
  },
  {
   "cell_type": "code",
   "execution_count": 105,
   "id": "2e7ddbe7-793c-4d06-8e58-299e79ef1341",
   "metadata": {},
   "outputs": [
    {
     "data": {
      "text/plain": [
       "[1, 3, 'four point nine', 3, 'how', 'are', 6, 'you', 8.9]"
      ]
     },
     "execution_count": 105,
     "metadata": {},
     "output_type": "execute_result"
    }
   ],
   "source": [
    "L2"
   ]
  },
  {
   "cell_type": "code",
   "execution_count": 107,
   "id": "5ad70241-8280-4f30-af85-0674a3634d8d",
   "metadata": {},
   "outputs": [
    {
     "data": {
      "text/plain": [
       "[1, 3, 'four point nine', 3, 'how', 'are', 6, 'you', 8.9]"
      ]
     },
     "execution_count": 107,
     "metadata": {},
     "output_type": "execute_result"
    }
   ],
   "source": [
    "L"
   ]
  },
  {
   "cell_type": "code",
   "execution_count": 113,
   "id": "b0495ee6-3524-4db6-a198-cfad088b1aea",
   "metadata": {},
   "outputs": [],
   "source": [
    "L2 = L.copy()"
   ]
  },
  {
   "cell_type": "code",
   "execution_count": 115,
   "id": "89476636-d59f-4d96-be7d-b0cf4f681e26",
   "metadata": {},
   "outputs": [
    {
     "data": {
      "text/plain": [
       "[1, 3, 'four point nine', 3, 'how', 'are', 6, 'you', 8.9]"
      ]
     },
     "execution_count": 115,
     "metadata": {},
     "output_type": "execute_result"
    }
   ],
   "source": [
    "L2"
   ]
  },
  {
   "cell_type": "code",
   "execution_count": 117,
   "id": "e0b3ccf5-66fb-4ada-a4e9-da31f30c9446",
   "metadata": {},
   "outputs": [],
   "source": [
    "L2[2]= 4.9"
   ]
  },
  {
   "cell_type": "code",
   "execution_count": 119,
   "id": "2ddec429-adc2-416c-9f76-2a3d09cf5de0",
   "metadata": {},
   "outputs": [
    {
     "data": {
      "text/plain": [
       "[1, 3, 4.9, 3, 'how', 'are', 6, 'you', 8.9]"
      ]
     },
     "execution_count": 119,
     "metadata": {},
     "output_type": "execute_result"
    }
   ],
   "source": [
    "L2"
   ]
  },
  {
   "cell_type": "code",
   "execution_count": 121,
   "id": "5bf3f305-3941-440e-a179-09d1d3cbb133",
   "metadata": {},
   "outputs": [
    {
     "data": {
      "text/plain": [
       "[1, 3, 'four point nine', 3, 'how', 'are', 6, 'you', 8.9]"
      ]
     },
     "execution_count": 121,
     "metadata": {},
     "output_type": "execute_result"
    }
   ],
   "source": [
    "L"
   ]
  },
  {
   "cell_type": "code",
   "execution_count": 137,
   "id": "759e52b6-a57b-4151-829b-e48a08c52374",
   "metadata": {},
   "outputs": [],
   "source": [
    "L3 = L[1:5] #slicing automatically creates a copy of the list L in L3"
   ]
  },
  {
   "cell_type": "code",
   "execution_count": 127,
   "id": "4bdcefd9-6a67-4372-b0bd-17b61911ef10",
   "metadata": {},
   "outputs": [
    {
     "data": {
      "text/plain": [
       "[3, 'four point nine', 3, 'how']"
      ]
     },
     "execution_count": 127,
     "metadata": {},
     "output_type": "execute_result"
    }
   ],
   "source": [
    "L3"
   ]
  },
  {
   "cell_type": "code",
   "execution_count": 129,
   "id": "511954a6-1809-420a-9c0d-3a87d4cde344",
   "metadata": {},
   "outputs": [],
   "source": [
    "L3[0] = \"three\" "
   ]
  },
  {
   "cell_type": "code",
   "execution_count": 133,
   "id": "712c8121-29a1-46f7-8aba-0902f491df50",
   "metadata": {},
   "outputs": [
    {
     "data": {
      "text/plain": [
       "['three', 'four point nine', 3, 'how']"
      ]
     },
     "execution_count": 133,
     "metadata": {},
     "output_type": "execute_result"
    }
   ],
   "source": [
    "L3"
   ]
  },
  {
   "cell_type": "code",
   "execution_count": 135,
   "id": "6c244578-8d52-48a6-8ebc-cd22a4e08667",
   "metadata": {},
   "outputs": [
    {
     "data": {
      "text/plain": [
       "[1, 3, 'four point nine', 3, 'how', 'are', 6, 'you', 8.9]"
      ]
     },
     "execution_count": 135,
     "metadata": {},
     "output_type": "execute_result"
    }
   ],
   "source": [
    "L"
   ]
  },
  {
   "cell_type": "code",
   "execution_count": 139,
   "id": "18c61b0f-66bb-4514-a952-07ffffe79a34",
   "metadata": {},
   "outputs": [
    {
     "data": {
      "text/plain": [
       "[1, 3, 'four point nine', 3, 'how', 'are', 6, 'you', 8.9]"
      ]
     },
     "execution_count": 139,
     "metadata": {},
     "output_type": "execute_result"
    }
   ],
   "source": [
    "L"
   ]
  },
  {
   "cell_type": "code",
   "execution_count": 141,
   "id": "bf600191-ff3f-447b-b5b7-55a8d98ad3e8",
   "metadata": {},
   "outputs": [
    {
     "data": {
      "text/plain": [
       "(1, 3, 4.9, 'name', 3)"
      ]
     },
     "execution_count": 141,
     "metadata": {},
     "output_type": "execute_result"
    }
   ],
   "source": [
    "T"
   ]
  },
  {
   "cell_type": "code",
   "execution_count": 143,
   "id": "8ca685d8-5d79-432b-91c0-dca0e9f696fc",
   "metadata": {},
   "outputs": [
    {
     "data": {
      "text/plain": [
       "{1, 23, 3, 4.9, 56, 'name'}"
      ]
     },
     "execution_count": 143,
     "metadata": {},
     "output_type": "execute_result"
    }
   ],
   "source": [
    "S"
   ]
  },
  {
   "cell_type": "code",
   "execution_count": 145,
   "id": "97d3d230-4f78-4e01-9e3e-7541854227ce",
   "metadata": {},
   "outputs": [
    {
     "data": {
      "text/plain": [
       "{23: 'twothree', 'B': 43, 'newKey': 'newValue'}"
      ]
     },
     "execution_count": 145,
     "metadata": {},
     "output_type": "execute_result"
    }
   ],
   "source": [
    "D"
   ]
  },
  {
   "cell_type": "code",
   "execution_count": 147,
   "id": "5cb1b928-0fa5-47e3-84a5-41cd524fab4a",
   "metadata": {},
   "outputs": [],
   "source": [
    "D2 = {'A':L,'B':T,'C':S,'D':D}"
   ]
  },
  {
   "cell_type": "code",
   "execution_count": 149,
   "id": "b02da7bd-c30c-47e6-9299-080419ea08df",
   "metadata": {},
   "outputs": [
    {
     "data": {
      "text/plain": [
       "{'A': [1, 3, 'four point nine', 3, 'how', 'are', 6, 'you', 8.9],\n",
       " 'B': (1, 3, 4.9, 'name', 3),\n",
       " 'C': {1, 23, 3, 4.9, 56, 'name'},\n",
       " 'D': {23: 'twothree', 'B': 43, 'newKey': 'newValue'}}"
      ]
     },
     "execution_count": 149,
     "metadata": {},
     "output_type": "execute_result"
    }
   ],
   "source": [
    "D2"
   ]
  },
  {
   "cell_type": "code",
   "execution_count": 151,
   "id": "dd642941-fbde-4375-97ea-e7bd0588740c",
   "metadata": {},
   "outputs": [
    {
     "data": {
      "text/plain": [
       "[1, 3, 'four point nine', 3, 'how', 'are', 6, 'you', 8.9]"
      ]
     },
     "execution_count": 151,
     "metadata": {},
     "output_type": "execute_result"
    }
   ],
   "source": [
    "D2['A']"
   ]
  },
  {
   "cell_type": "code",
   "execution_count": 155,
   "id": "608e00e5-5631-4053-b57b-cb77d3b154cc",
   "metadata": {},
   "outputs": [
    {
     "data": {
      "text/plain": [
       "'four point nine'"
      ]
     },
     "execution_count": 155,
     "metadata": {},
     "output_type": "execute_result"
    }
   ],
   "source": [
    "D2['A'][2]"
   ]
  },
  {
   "cell_type": "code",
   "execution_count": 157,
   "id": "c83ad11f-65aa-4670-885a-a6d7771c99de",
   "metadata": {},
   "outputs": [],
   "source": [
    "K = D2['D']"
   ]
  },
  {
   "cell_type": "code",
   "execution_count": 159,
   "id": "b63d5686-3cea-41aa-a0be-adb951608ad7",
   "metadata": {},
   "outputs": [
    {
     "data": {
      "text/plain": [
       "{23: 'twothree', 'B': 43, 'newKey': 'newValue'}"
      ]
     },
     "execution_count": 159,
     "metadata": {},
     "output_type": "execute_result"
    }
   ],
   "source": [
    "K"
   ]
  },
  {
   "cell_type": "code",
   "execution_count": 165,
   "id": "b91fb140-ab42-4ef5-a1cb-aba504d4036f",
   "metadata": {},
   "outputs": [
    {
     "name": "stdout",
     "output_type": "stream",
     "text": [
      "23 twothree\n",
      "B 43\n",
      "newKey newValue\n"
     ]
    }
   ],
   "source": [
    "for x in K:\n",
    "    print(x,K[x])"
   ]
  },
  {
   "cell_type": "code",
   "execution_count": null,
   "id": "79dbc6bc-c9e8-46ab-94f6-95c563d444c9",
   "metadata": {},
   "outputs": [],
   "source": []
  }
 ],
 "metadata": {
  "kernelspec": {
   "display_name": "Python [conda env:base] *",
   "language": "python",
   "name": "conda-base-py"
  },
  "language_info": {
   "codemirror_mode": {
    "name": "ipython",
    "version": 3
   },
   "file_extension": ".py",
   "mimetype": "text/x-python",
   "name": "python",
   "nbconvert_exporter": "python",
   "pygments_lexer": "ipython3",
   "version": "3.12.7"
  }
 },
 "nbformat": 4,
 "nbformat_minor": 5
}
