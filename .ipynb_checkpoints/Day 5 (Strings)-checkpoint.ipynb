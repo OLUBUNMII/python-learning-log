{
 "cells": [
  {
   "cell_type": "code",
   "execution_count": 1,
   "id": "89bfccee-0533-4c16-8fa9-9bb3e04975ce",
   "metadata": {},
   "outputs": [],
   "source": [
    "#STRINGS\n",
    "s = \"Python is a good Language\"\n",
    "t = 'It is good for data science'"
   ]
  },
  {
   "cell_type": "code",
   "execution_count": 3,
   "id": "f47f1f33-c694-4cfd-ac9f-893ec9bb0785",
   "metadata": {},
   "outputs": [
    {
     "data": {
      "text/plain": [
       "str"
      ]
     },
     "execution_count": 3,
     "metadata": {},
     "output_type": "execute_result"
    }
   ],
   "source": [
    "type(s)"
   ]
  },
  {
   "cell_type": "code",
   "execution_count": 5,
   "id": "48df01e4-e563-4f94-9eaf-793cb37c15cf",
   "metadata": {},
   "outputs": [
    {
     "name": "stdout",
     "output_type": "stream",
     "text": [
      "Python is a good Language\n"
     ]
    }
   ],
   "source": [
    "print(s)"
   ]
  },
  {
   "cell_type": "code",
   "execution_count": 15,
   "id": "0e70a6a8-0a16-4956-8255-ac3350829f65",
   "metadata": {},
   "outputs": [
    {
     "name": "stdout",
     "output_type": "stream",
     "text": [
      "Python is a good Language, It is good for data science\n"
     ]
    }
   ],
   "source": [
    "print(s+', '+t)"
   ]
  },
  {
   "cell_type": "code",
   "execution_count": 31,
   "id": "62653295-80ef-4fd0-a6a2-aabc6b54ee86",
   "metadata": {},
   "outputs": [
    {
     "name": "stdout",
     "output_type": "stream",
     "text": [
      "The price of this book is: 12\n",
      "The price of this book is: 12\n"
     ]
    }
   ],
   "source": [
    "price = 12\n",
    "s = \"The price of this book\"\n",
    "v = s + ' is: ' + str(price)\n",
    "print(v)\n",
    "print(s,\"is:\",price)"
   ]
  },
  {
   "cell_type": "code",
   "execution_count": 35,
   "id": "f230c0e8-7f38-4944-b8c6-4a985d44d41d",
   "metadata": {},
   "outputs": [
    {
     "name": "stdout",
     "output_type": "stream",
     "text": [
      "This is line 1\n",
      "This is Line 2\n",
      "This the Line 3, the last Line.\n"
     ]
    }
   ],
   "source": [
    " #Multi Line String\n",
    "a = \"\"\"This is line 1\n",
    "This is Line 2\n",
    "This the Line 3, the last Line.\"\"\"\n",
    "print(a)"
   ]
  },
  {
   "cell_type": "code",
   "execution_count": 53,
   "id": "f1bf5e73-e968-4f89-bc9d-25ae5a545a91",
   "metadata": {},
   "outputs": [
    {
     "name": "stdout",
     "output_type": "stream",
     "text": [
      "e of \n",
      " Thro\n",
      "15\n",
      "5\n"
     ]
    }
   ],
   "source": [
    "#Indexing, Negative Index and Slicing\n",
    "\"\"\"Indexing starts from 0 in python, indexing starts from 1 in MatplotLib.\n",
    "Strings are immutable, slicing is more popular in mutable data structures.\"\"\"\n",
    "b = \"Game of Thrones\"\n",
    "print(b[3:8]) #first index character (3) will be printed but the last character index (8) will not be printed\n",
    "print(b[-8:-3]) #character at -3 will not be printed, character at -8 will be printed\n",
    "print(len(b))\n",
    "print(len(a[3:8]))"
   ]
  },
  {
   "cell_type": "code",
   "execution_count": 47,
   "id": "e96eee4f-ca2a-4003-8421-6b8a657f336e",
   "metadata": {},
   "outputs": [
    {
     "data": {
      "text/plain": [
       "'e of '"
      ]
     },
     "execution_count": 47,
     "metadata": {},
     "output_type": "execute_result"
    }
   ],
   "source": [
    "b[3:8]"
   ]
  },
  {
   "cell_type": "code",
   "execution_count": 49,
   "id": "3d707119-b745-43fd-873f-6bb5891578c1",
   "metadata": {},
   "outputs": [
    {
     "data": {
      "text/plain": [
       "' Thro'"
      ]
     },
     "execution_count": 49,
     "metadata": {},
     "output_type": "execute_result"
    }
   ],
   "source": [
    "b[-8:-3]"
   ]
  },
  {
   "cell_type": "code",
   "execution_count": 51,
   "id": "04d55fe5-e91f-4ba1-887f-13b7dadda302",
   "metadata": {},
   "outputs": [
    {
     "data": {
      "text/plain": [
       "15"
      ]
     },
     "execution_count": 51,
     "metadata": {},
     "output_type": "execute_result"
    }
   ],
   "source": [
    "len(b)"
   ]
  },
  {
   "cell_type": "code",
   "execution_count": 55,
   "id": "2ee80c95-e905-4e58-bfce-b10e9a2ffcdd",
   "metadata": {},
   "outputs": [
    {
     "data": {
      "text/plain": [
       "'Gm fTr'"
      ]
     },
     "execution_count": 55,
     "metadata": {},
     "output_type": "execute_result"
    }
   ],
   "source": [
    "b[0:12:2]"
   ]
  },
  {
   "cell_type": "code",
   "execution_count": 67,
   "id": "d230465b-64da-40fb-adc4-f745b17fbee1",
   "metadata": {},
   "outputs": [
    {
     "name": "stdout",
     "output_type": "stream",
     "text": [
      "Game of Thrones\n"
     ]
    },
    {
     "data": {
      "text/plain": [
       "'Game of Thro'"
      ]
     },
     "execution_count": 67,
     "metadata": {},
     "output_type": "execute_result"
    }
   ],
   "source": [
    "#Slicing Syntax\n",
    "#b[startIndex:endIndex:stepSize]\n",
    "print(b)\n",
    "b[:12]"
   ]
  },
  {
   "cell_type": "code",
   "execution_count": 61,
   "id": "22f89eaf-c4a2-4306-adfc-a80963548c60",
   "metadata": {},
   "outputs": [
    {
     "data": {
      "text/plain": [
       "'e of Thrones'"
      ]
     },
     "execution_count": 61,
     "metadata": {},
     "output_type": "execute_result"
    }
   ],
   "source": [
    "b[3:]"
   ]
  },
  {
   "cell_type": "code",
   "execution_count": 71,
   "id": "ebaf6413-5ff4-4d18-96ec-f81f13300b28",
   "metadata": {},
   "outputs": [
    {
     "data": {
      "text/plain": [
       "'e of Thro'"
      ]
     },
     "execution_count": 71,
     "metadata": {},
     "output_type": "execute_result"
    }
   ],
   "source": [
    "b[3:12]"
   ]
  },
  {
   "cell_type": "code",
   "execution_count": 73,
   "id": "dea8d281-b407-46af-b8e8-ae8de571e585",
   "metadata": {},
   "outputs": [
    {
     "data": {
      "text/plain": [
       "'senorhT fo emaG'"
      ]
     },
     "execution_count": 73,
     "metadata": {},
     "output_type": "execute_result"
    }
   ],
   "source": [
    "b[::-1]"
   ]
  },
  {
   "cell_type": "code",
   "execution_count": 75,
   "id": "7279f07c-66eb-4960-889a-4cc0e6e7fbbe",
   "metadata": {},
   "outputs": [],
   "source": [
    "#Functions in strings\n",
    "s = \"   A lot OF Spaces at The    beGinning and end    \"\n",
    "t = s.strip()"
   ]
  },
  {
   "cell_type": "code",
   "execution_count": 77,
   "id": "c1bbb1ac-3558-4607-ab62-080a9e3c5e4b",
   "metadata": {},
   "outputs": [
    {
     "name": "stdout",
     "output_type": "stream",
     "text": [
      "   A lot OF Spaces at The    beGinning and end    \n"
     ]
    }
   ],
   "source": [
    "print(s)"
   ]
  },
  {
   "cell_type": "code",
   "execution_count": 79,
   "id": "b52cb09e-0be9-4e83-b78f-d7e9c509bbc8",
   "metadata": {},
   "outputs": [
    {
     "name": "stdout",
     "output_type": "stream",
     "text": [
      "A lot OF Spaces at The    beGinning and end\n"
     ]
    }
   ],
   "source": [
    "print(t)"
   ]
  },
  {
   "cell_type": "code",
   "execution_count": 81,
   "id": "56eae87a-a22f-4c7b-b73d-8335029886eb",
   "metadata": {},
   "outputs": [
    {
     "name": "stdout",
     "output_type": "stream",
     "text": [
      "a lot of spaces at the    beginning and end\n"
     ]
    }
   ],
   "source": [
    "print(t.lower())"
   ]
  },
  {
   "cell_type": "code",
   "execution_count": 83,
   "id": "d890b1ed-fa5b-4200-9b18-08330245973a",
   "metadata": {},
   "outputs": [
    {
     "name": "stdout",
     "output_type": "stream",
     "text": [
      "A LOT OF SPACES AT THE    BEGINNING AND END\n"
     ]
    }
   ],
   "source": [
    "print(t.upper())"
   ]
  },
  {
   "cell_type": "code",
   "execution_count": 85,
   "id": "15287d06-63a9-475b-97bc-b22ae3f43ddc",
   "metadata": {},
   "outputs": [
    {
     "name": "stdout",
     "output_type": "stream",
     "text": [
      ",,,A,lot,OF,Spaces,at,The,,,,beGinning,and,end,,,,\n"
     ]
    }
   ],
   "source": [
    "print(s.replace(\" \", \",\"))"
   ]
  },
  {
   "cell_type": "code",
   "execution_count": 91,
   "id": "af9ec707-bc89-4c54-a2af-ce87552604c4",
   "metadata": {},
   "outputs": [
    {
     "name": "stdout",
     "output_type": "stream",
     "text": [
      " space  space  space A space lot space OF space Spaces space at space The space  space  space  space beGinning space and space end space  space  space  space \n"
     ]
    }
   ],
   "source": [
    "print(s.replace(\" \", \" space \"))"
   ]
  },
  {
   "cell_type": "code",
   "execution_count": 95,
   "id": "79f7104b-d9bb-4ffa-b095-87a36036ad36",
   "metadata": {},
   "outputs": [
    {
     "name": "stdout",
     "output_type": "stream",
     "text": [
      "['', '', '', 'A', 'lot', 'OF', 'Spaces', 'at', 'The', '', '', '', 'beGinning', 'and', 'end', '', '', '', '']\n"
     ]
    }
   ],
   "source": [
    "L = s.split(\" \")\n",
    "print(L)"
   ]
  },
  {
   "cell_type": "code",
   "execution_count": 97,
   "id": "5dcd5908-9c52-492b-8658-1e63394b88f2",
   "metadata": {},
   "outputs": [],
   "source": [
    "#Press a. \"tab button\" to see all the functions of the string adn what it is capable of. \n",
    "#Press a. \"?\" to see it's documentation"
   ]
  },
  {
   "cell_type": "code",
   "execution_count": 101,
   "id": "8ba0f01d-268e-4a23-90a4-f9364dec90e5",
   "metadata": {},
   "outputs": [
    {
     "data": {
      "text/plain": [
       "\u001b[0;31mSignature:\u001b[0m \u001b[0ma\u001b[0m\u001b[0;34m.\u001b[0m\u001b[0mcenter\u001b[0m\u001b[0;34m(\u001b[0m\u001b[0mwidth\u001b[0m\u001b[0;34m,\u001b[0m \u001b[0mfillchar\u001b[0m\u001b[0;34m=\u001b[0m\u001b[0;34m' '\u001b[0m\u001b[0;34m,\u001b[0m \u001b[0;34m/\u001b[0m\u001b[0;34m)\u001b[0m\u001b[0;34m\u001b[0m\u001b[0;34m\u001b[0m\u001b[0m\n",
       "\u001b[0;31mDocstring:\u001b[0m\n",
       "Return a centered string of length width.\n",
       "\n",
       "Padding is done using the specified fill character (default is a space).\n",
       "\u001b[0;31mType:\u001b[0m      builtin_function_or_method"
      ]
     },
     "metadata": {},
     "output_type": "display_data"
    }
   ],
   "source": [
    "a.center?"
   ]
  },
  {
   "cell_type": "code",
   "execution_count": 103,
   "id": "ac607f5a-ae0c-4737-a219-1d026264dbd3",
   "metadata": {},
   "outputs": [
    {
     "data": {
      "text/plain": [
       "True"
      ]
     },
     "execution_count": 103,
     "metadata": {},
     "output_type": "execute_result"
    }
   ],
   "source": [
    "\"abc\" in \"cdjbfvhvhsdftyvabcjdhegurgsgv\""
   ]
  },
  {
   "cell_type": "code",
   "execution_count": 105,
   "id": "c4e8a319-b618-40bc-bb58-e6f07ee1c992",
   "metadata": {},
   "outputs": [
    {
     "data": {
      "text/plain": [
       "True"
      ]
     },
     "execution_count": 105,
     "metadata": {},
     "output_type": "execute_result"
    }
   ],
   "source": [
    "\"abc\" == \"abc\""
   ]
  },
  {
   "cell_type": "code",
   "execution_count": 107,
   "id": "b7ef7c04-4fab-406e-8c4d-89264dedf33e",
   "metadata": {},
   "outputs": [
    {
     "data": {
      "text/plain": [
       "False"
      ]
     },
     "execution_count": 107,
     "metadata": {},
     "output_type": "execute_result"
    }
   ],
   "source": [
    "\"abc\" < \"abc\""
   ]
  },
  {
   "cell_type": "code",
   "execution_count": 109,
   "id": "abe22e4d-36ce-4837-ae16-4b79b648f4cd",
   "metadata": {},
   "outputs": [
    {
     "data": {
      "text/plain": [
       "True"
      ]
     },
     "execution_count": 109,
     "metadata": {},
     "output_type": "execute_result"
    }
   ],
   "source": [
    "\"abc\" < \"def\""
   ]
  },
  {
   "cell_type": "code",
   "execution_count": 111,
   "id": "ae8486bc-5793-4d6c-8ac6-e0695c85f4b8",
   "metadata": {},
   "outputs": [
    {
     "data": {
      "text/plain": [
       "True"
      ]
     },
     "execution_count": 111,
     "metadata": {},
     "output_type": "execute_result"
    }
   ],
   "source": [
    "\"abc\" < \"bcd\""
   ]
  },
  {
   "cell_type": "code",
   "execution_count": 113,
   "id": "e20e041b-fc51-4fc9-ab73-da8892c2d61f",
   "metadata": {},
   "outputs": [
    {
     "data": {
      "text/plain": [
       "True"
      ]
     },
     "execution_count": 113,
     "metadata": {},
     "output_type": "execute_result"
    }
   ],
   "source": [
    "\"abc\" < \"bc\""
   ]
  },
  {
   "cell_type": "code",
   "execution_count": 115,
   "id": "7d34e1de-ee58-4ec6-9440-88c81eaaa5d2",
   "metadata": {},
   "outputs": [
    {
     "name": "stdout",
     "output_type": "stream",
     "text": [
      "I am learning \"string\" here\n"
     ]
    }
   ],
   "source": [
    "print(\"I am learning \\\"string\\\" here\")"
   ]
  },
  {
   "cell_type": "code",
   "execution_count": 118,
   "id": "a75f316a-545b-4210-8216-dafb0b8ada5f",
   "metadata": {},
   "outputs": [
    {
     "name": "stdout",
     "output_type": "stream",
     "text": [
      "I am learning \"strings\" here\n"
     ]
    }
   ],
   "source": [
    "print('I am learning \"strings\" here')"
   ]
  },
  {
   "cell_type": "code",
   "execution_count": 120,
   "id": "60a638c8-c917-48db-8e74-123733946891",
   "metadata": {},
   "outputs": [
    {
     "name": "stdout",
     "output_type": "stream",
     "text": [
      "I have \t now added an extra space using forward slash T (Tab)\n"
     ]
    }
   ],
   "source": [
    "print(\"I have \\t now added an extra space using forward slash T (Tab)\")"
   ]
  },
  {
   "cell_type": "code",
   "execution_count": 124,
   "id": "5fad3755-7a3a-4435-b2e5-9c0d8d64cb74",
   "metadata": {},
   "outputs": [
    {
     "name": "stdout",
     "output_type": "stream",
     "text": [
      "I am \n",
      "now on a new line using forward slah n (new, I geuss)\n"
     ]
    }
   ],
   "source": [
    "print('I am \\nnow on a new line using forward slah n (new, I geuss)')"
   ]
  },
  {
   "cell_type": "code",
   "execution_count": 132,
   "id": "d9f1d716-fb15-4d24-95fe-d2800b7eb5b5",
   "metadata": {},
   "outputs": [
    {
     "name": "stdout",
     "output_type": "stream",
     "text": [
      "c:\n",
      "ame\\drive\n"
     ]
    },
    {
     "name": "stderr",
     "output_type": "stream",
     "text": [
      "<>:2: SyntaxWarning: invalid escape sequence '\\d'\n",
      "<>:2: SyntaxWarning: invalid escape sequence '\\d'\n",
      "/var/folders/5h/z27xfcwn3k332700bv750kb80000gn/T/ipykernel_5074/666263791.py:2: SyntaxWarning: invalid escape sequence '\\d'\n",
      "  print(\"c:\\name\\drive\")\n"
     ]
    }
   ],
   "source": [
    "#The blackslash n escape sequence is printed but there is no blackslah D as an escape sequence so it is just printed as it is and hence the error message\"\"\"\n",
    "print(\"c:\\name\\drive\")"
   ]
  },
  {
   "cell_type": "code",
   "execution_count": 136,
   "id": "c48325bb-4756-4fa4-976c-ff63d5c47377",
   "metadata": {},
   "outputs": [
    {
     "name": "stdout",
     "output_type": "stream",
     "text": [
      "c:\\name\\drive\n"
     ]
    }
   ],
   "source": [
    "\"\"\"Furthermore, you can insert an \"r\" before typing the string to indicate that it is to be printed out as a raw\n",
    " string without any escape sequence\"\"\" \n",
    "print(r\"c:\\name\\drive\")"
   ]
  },
  {
   "cell_type": "code",
   "execution_count": null,
   "id": "7f21e6fe-08c4-42a6-b0e6-478b805ba880",
   "metadata": {},
   "outputs": [],
   "source": []
  }
 ],
 "metadata": {
  "kernelspec": {
   "display_name": "Python [conda env:base] *",
   "language": "python",
   "name": "conda-base-py"
  },
  "language_info": {
   "codemirror_mode": {
    "name": "ipython",
    "version": 3
   },
   "file_extension": ".py",
   "mimetype": "text/x-python",
   "name": "python",
   "nbconvert_exporter": "python",
   "pygments_lexer": "ipython3",
   "version": "3.12.7"
  }
 },
 "nbformat": 4,
 "nbformat_minor": 5
}
