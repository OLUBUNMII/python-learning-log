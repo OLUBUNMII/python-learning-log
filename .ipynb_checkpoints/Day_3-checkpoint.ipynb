{
 "cells": [
  {
   "cell_type": "code",
   "execution_count": 51,
   "id": "0112b84f-d224-4b6c-a1c6-2dc8bebac70e",
   "metadata": {},
   "outputs": [],
   "source": [
    "\"\"\"Functions(Variable inside,Return statement)\"\"\"\n",
    "def myadd(a,b):\n",
    "    sumValue = a+b\n",
    "    return sumValue"
   ]
  },
  {
   "cell_type": "code",
   "execution_count": 35,
   "id": "2df2448d-d3d8-4701-8ae0-acb00f78644f",
   "metadata": {},
   "outputs": [
    {
     "name": "stdout",
     "output_type": "stream",
     "text": [
      "8\n"
     ]
    }
   ],
   "source": [
    "d = myadd(4,4)\n",
    "print(d)"
   ]
  },
  {
   "cell_type": "code",
   "execution_count": 37,
   "id": "5eafcba1-56d5-477e-9887-d88d588280a4",
   "metadata": {},
   "outputs": [],
   "source": [
    "variableOutsideTheFunction = 3"
   ]
  },
  {
   "cell_type": "code",
   "execution_count": 59,
   "id": "b3d89307-407f-42ac-90de-17959f190f81",
   "metadata": {},
   "outputs": [],
   "source": [
    "def g():\n",
    "    variableOutsideTheFunction = 5\n",
    "    print(variableOutsideTheFunction)"
   ]
  },
  {
   "cell_type": "code",
   "execution_count": 61,
   "id": "5a539e7f-bcfe-4d7d-9c89-4ba2a8ffc091",
   "metadata": {},
   "outputs": [
    {
     "name": "stdout",
     "output_type": "stream",
     "text": [
      "5\n"
     ]
    }
   ],
   "source": [
    "g()"
   ]
  },
  {
   "cell_type": "code",
   "execution_count": 63,
   "id": "757f1d84-6597-4102-84c0-ab5a6304f119",
   "metadata": {},
   "outputs": [
    {
     "name": "stdout",
     "output_type": "stream",
     "text": [
      "3\n"
     ]
    }
   ],
   "source": [
    "print(variableOutsideTheFunction)"
   ]
  },
  {
   "cell_type": "code",
   "execution_count": 75,
   "id": "a7262363-002c-4a6f-97cf-878a4c36bf61",
   "metadata": {},
   "outputs": [],
   "source": [
    "def h():\n",
    "    print(\"A\")\n",
    "    a = 3\n",
    "    b = 5\n",
    "    c = a+b\n",
    "    print(\"something\")\n",
    "    return c\n",
    "    print(\"B\")\n",
    "    print(\"C\")"
   ]
  },
  {
   "cell_type": "code",
   "execution_count": 77,
   "id": "d0227339-64af-4558-8239-cfefd6c7e270",
   "metadata": {},
   "outputs": [
    {
     "name": "stdout",
     "output_type": "stream",
     "text": [
      "A\n",
      "something\n",
      "8\n"
     ]
    }
   ],
   "source": [
    "print(h())"
   ]
  },
  {
   "cell_type": "code",
   "execution_count": 81,
   "id": "d1172fb0-6b60-443c-a9e0-15b69bc3300c",
   "metadata": {},
   "outputs": [],
   "source": [
    "def r():\n",
    "    a = 5\n",
    "    b = 7\n",
    "    d = \"SOMETHING\"\n",
    "    return a,b,d"
   ]
  },
  {
   "cell_type": "code",
   "execution_count": 83,
   "id": "015578b7-b5ba-4c69-ad26-29d31538c94f",
   "metadata": {},
   "outputs": [
    {
     "name": "stdout",
     "output_type": "stream",
     "text": [
      "5 7 SOMETHING\n"
     ]
    }
   ],
   "source": [
    "x,y,z = r()\n",
    "print(x,y,z)"
   ]
  },
  {
   "cell_type": "code",
   "execution_count": 85,
   "id": "d58a340f-dc93-4e54-bf61-a50be0c533ce",
   "metadata": {},
   "outputs": [],
   "source": [
    "#Functions(variable number of input arguments)\n",
    "def myAddUniversal(*args):\n",
    "    s = 0\n",
    "    for i in range(len(args)):\n",
    "        s += args[i] # could also be written as \"s = s+args[i]\"\n",
    "    return s"
   ]
  },
  {
   "cell_type": "code",
   "execution_count": 87,
   "id": "db211e69-de55-4c7f-b4d2-438b4de2e45b",
   "metadata": {},
   "outputs": [
    {
     "name": "stdout",
     "output_type": "stream",
     "text": [
      "126.5\n"
     ]
    }
   ],
   "source": [
    "print(myAddUniversal(2,4,7,8.9,34,67,3.6))"
   ]
  },
  {
   "cell_type": "code",
   "execution_count": 93,
   "id": "b33ce0e6-27b2-4ac9-9b84-29bd859bd331",
   "metadata": {},
   "outputs": [],
   "source": [
    "def printAllVariableNamesAndValues(**args):\n",
    "    for x in args:\n",
    "        print(\"Variable Name is :\",x, \"And the Vakue is :\", args[x])"
   ]
  },
  {
   "cell_type": "code",
   "execution_count": 95,
   "id": "409a2ff5-7167-401c-be73-6b07b044f012",
   "metadata": {},
   "outputs": [
    {
     "name": "stdout",
     "output_type": "stream",
     "text": [
      "Variable Name is : a And the Vakue is : 3\n",
      "Variable Name is : b And the Vakue is : 3rd day learning python\n",
      "Variable Name is : c And the Vakue is : Consistency is Key\n",
      "Variable Name is : d And the Vakue is : 65.87\n",
      "Variable Name is : e And the Vakue is : end of input arguments\n"
     ]
    }
   ],
   "source": [
    "printAllVariableNamesAndValues(a = 3, b = \"3rd day learning python\", c = \"Consistency is Key\", d=65.87, e = \"end of input arguments\")"
   ]
  },
  {
   "cell_type": "code",
   "execution_count": 97,
   "id": "6c96c6f6-0ec1-4c53-8fda-4f871d435843",
   "metadata": {},
   "outputs": [],
   "source": [
    "#Functions(Default Value)\n",
    "def gg(s=5):\n",
    "    print(s)"
   ]
  },
  {
   "cell_type": "code",
   "execution_count": 99,
   "id": "30c7902b-31e6-41d8-a30c-a14baec59ab4",
   "metadata": {},
   "outputs": [
    {
     "name": "stdout",
     "output_type": "stream",
     "text": [
      "5\n"
     ]
    }
   ],
   "source": [
    "gg()"
   ]
  },
  {
   "cell_type": "code",
   "execution_count": 101,
   "id": "8c7358e4-158c-48a1-a68d-558fac631cdf",
   "metadata": {},
   "outputs": [
    {
     "name": "stdout",
     "output_type": "stream",
     "text": [
      "56\n"
     ]
    }
   ],
   "source": [
    "gg(56)"
   ]
  },
  {
   "cell_type": "code",
   "execution_count": 107,
   "id": "1f4c59fc-2e24-42b6-905a-87edd1a09c12",
   "metadata": {},
   "outputs": [
    {
     "name": "stdout",
     "output_type": "stream",
     "text": [
      "[-9, 2, 3, 4]\n"
     ]
    }
   ],
   "source": [
    "L = [1,2,3,4]\n",
    "L2 = L\n",
    "L2[0] = -9\n",
    "print(L)"
   ]
  },
  {
   "cell_type": "code",
   "execution_count": 109,
   "id": "bd362a5f-82b7-422a-8f4a-e0f1b2e40868",
   "metadata": {},
   "outputs": [],
   "source": [
    "def ff(L=[1,2,3,4]):\n",
    "    for i in L:\n",
    "        print(i)"
   ]
  },
  {
   "cell_type": "code",
   "execution_count": 111,
   "id": "d4c5478e-a8d3-441f-8f8b-7b248d813a9e",
   "metadata": {},
   "outputs": [
    {
     "name": "stdout",
     "output_type": "stream",
     "text": [
      "1\n",
      "2\n",
      "3\n",
      "4\n"
     ]
    }
   ],
   "source": [
    "L2 = [12,3,4,5]\n",
    "ff()"
   ]
  },
  {
   "cell_type": "code",
   "execution_count": 113,
   "id": "5c15c4e8-0cd6-46ad-b4c0-b10316410395",
   "metadata": {},
   "outputs": [
    {
     "name": "stdout",
     "output_type": "stream",
     "text": [
      "12\n",
      "3\n",
      "4\n",
      "5\n"
     ]
    }
   ],
   "source": [
    "ff(L2)"
   ]
  },
  {
   "cell_type": "code",
   "execution_count": null,
   "id": "3041b53b-1515-4b7b-b3b4-93b85fe572b4",
   "metadata": {},
   "outputs": [],
   "source": [
    "#MODULES\n",
    "\"\"\"  module is a python file .py that contains code or functions that are available on demand, \n",
    "whenever they are needed. \n",
    "Normally functions that need to be repetitively used. \"\"\"\n",
    "\n",
    "import sys\n",
    "sys.path.append('/users/olubunmi/Desktop/modules/')"
   ]
  },
  {
   "cell_type": "code",
   "execution_count": 133,
   "id": "c52e6759-867e-4a63-a0c7-4cd139ccea51",
   "metadata": {},
   "outputs": [],
   "source": [
    "#import firstModule as myModule\n",
    "from firstModule import addAllNumerics"
   ]
  },
  {
   "cell_type": "code",
   "execution_count": 135,
   "id": "d649a412-0d0c-44ca-a386-3738d44a6ff2",
   "metadata": {},
   "outputs": [
    {
     "name": "stdout",
     "output_type": "stream",
     "text": [
      "27\n"
     ]
    }
   ],
   "source": [
    "d = addAllNumerics(2,3,4,5,6,7)\n",
    "print(d)"
   ]
  },
  {
   "cell_type": "code",
   "execution_count": 125,
   "id": "73e51a37-9b60-475d-80aa-a31634b38344",
   "metadata": {},
   "outputs": [
    {
     "data": {
      "text/plain": [
       "\u001b[0;31mSignature:\u001b[0m \u001b[0mmyModule\u001b[0m\u001b[0;34m.\u001b[0m\u001b[0maddAllNumerics\u001b[0m\u001b[0;34m(\u001b[0m\u001b[0;34m*\u001b[0m\u001b[0margs\u001b[0m\u001b[0;34m)\u001b[0m\u001b[0;34m\u001b[0m\u001b[0;34m\u001b[0m\u001b[0m\n",
       "\u001b[0;31mDocstring:\u001b[0m <no docstring>\n",
       "\u001b[0;31mSource:\u001b[0m   \n",
       "\u001b[0;32mdef\u001b[0m \u001b[0maddAllNumerics\u001b[0m\u001b[0;34m(\u001b[0m\u001b[0;34m*\u001b[0m\u001b[0margs\u001b[0m\u001b[0;34m)\u001b[0m\u001b[0;34m:\u001b[0m\u001b[0;34m\u001b[0m\n",
       "\u001b[0;34m\u001b[0m    \u001b[0ms\u001b[0m \u001b[0;34m=\u001b[0m \u001b[0;36m0\u001b[0m\u001b[0;34m\u001b[0m\n",
       "\u001b[0;34m\u001b[0m    \u001b[0;32mfor\u001b[0m \u001b[0mx\u001b[0m \u001b[0;32min\u001b[0m \u001b[0margs\u001b[0m\u001b[0;34m:\u001b[0m\u001b[0;34m\u001b[0m\n",
       "\u001b[0;34m\u001b[0m        \u001b[0ms\u001b[0m\u001b[0;34m+=\u001b[0m\u001b[0mx\u001b[0m\u001b[0;34m\u001b[0m\n",
       "\u001b[0;34m\u001b[0m    \u001b[0;32mreturn\u001b[0m \u001b[0ms\u001b[0m\u001b[0;34m\u001b[0m\u001b[0;34m\u001b[0m\u001b[0m\n",
       "\u001b[0;31mFile:\u001b[0m      ~/python-learning/firstModule.py\n",
       "\u001b[0;31mType:\u001b[0m      function"
      ]
     },
     "metadata": {},
     "output_type": "display_data"
    }
   ],
   "source": [
    "myModule.addAllNumerics??"
   ]
  },
  {
   "cell_type": "code",
   "execution_count": 129,
   "id": "20fd1363-1e39-43be-a434-a2586bb9e27e",
   "metadata": {},
   "outputs": [],
   "source": [
    "c = myModule.addAllNumerics(1,2,3,4,)"
   ]
  },
  {
   "cell_type": "code",
   "execution_count": 131,
   "id": "4c4015a1-578a-4801-b687-dc2f67612103",
   "metadata": {},
   "outputs": [
    {
     "name": "stdout",
     "output_type": "stream",
     "text": [
      "10\n"
     ]
    }
   ],
   "source": [
    "print(c)"
   ]
  },
  {
   "cell_type": "code",
   "execution_count": 139,
   "id": "f7c069f7-4de2-4dd4-8ef9-68e2b629ecf9",
   "metadata": {},
   "outputs": [
    {
     "data": {
      "text/plain": [
       "'My Python Learning Path'"
      ]
     },
     "execution_count": 139,
     "metadata": {},
     "output_type": "execute_result"
    }
   ],
   "source": [
    "myModule.myName"
   ]
  },
  {
   "cell_type": "code",
   "execution_count": null,
   "id": "8c4d65e5-e1fb-4c27-aa68-3139f69078c4",
   "metadata": {},
   "outputs": [],
   "source": []
  }
 ],
 "metadata": {
  "kernelspec": {
   "display_name": "Python [conda env:base] *",
   "language": "python",
   "name": "conda-base-py"
  },
  "language_info": {
   "codemirror_mode": {
    "name": "ipython",
    "version": 3
   },
   "file_extension": ".py",
   "mimetype": "text/x-python",
   "name": "python",
   "nbconvert_exporter": "python",
   "pygments_lexer": "ipython3",
   "version": "3.12.7"
  }
 },
 "nbformat": 4,
 "nbformat_minor": 5
}
