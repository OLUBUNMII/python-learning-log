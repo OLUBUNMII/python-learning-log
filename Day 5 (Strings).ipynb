{
 "cells": [
  {
   "cell_type": "code",
   "execution_count": 1,
   "id": "89bfccee-0533-4c16-8fa9-9bb3e04975ce",
   "metadata": {},
   "outputs": [],
   "source": [
    "#STRINGS\n",
    "s = \"Python is a good Language\"\n",
    "t = 'It is good for data science'"
   ]
  },
  {
   "cell_type": "code",
   "execution_count": 3,
   "id": "f47f1f33-c694-4cfd-ac9f-893ec9bb0785",
   "metadata": {},
   "outputs": [
    {
     "data": {
      "text/plain": [
       "str"
      ]
     },
     "execution_count": 3,
     "metadata": {},
     "output_type": "execute_result"
    }
   ],
   "source": [
    "type(s)"
   ]
  },
  {
   "cell_type": "code",
   "execution_count": 5,
   "id": "48df01e4-e563-4f94-9eaf-793cb37c15cf",
   "metadata": {},
   "outputs": [
    {
     "name": "stdout",
     "output_type": "stream",
     "text": [
      "Python is a good Language\n"
     ]
    }
   ],
   "source": [
    "print(s)"
   ]
  },
  {
   "cell_type": "code",
   "execution_count": 15,
   "id": "0e70a6a8-0a16-4956-8255-ac3350829f65",
   "metadata": {},
   "outputs": [
    {
     "name": "stdout",
     "output_type": "stream",
     "text": [
      "Python is a good Language, It is good for data science\n"
     ]
    }
   ],
   "source": [
    "print(s+', '+t)"
   ]
  },
  {
   "cell_type": "code",
   "execution_count": 31,
   "id": "62653295-80ef-4fd0-a6a2-aabc6b54ee86",
   "metadata": {},
   "outputs": [
    {
     "name": "stdout",
     "output_type": "stream",
     "text": [
      "The price of this book is: 12\n",
      "The price of this book is: 12\n"
     ]
    }
   ],
   "source": [
    "price = 12\n",
    "s = \"The price of this book\"\n",
    "v = s + ' is: ' + str(price)\n",
    "print(v)\n",
    "print(s,\"is:\",price)"
   ]
  },
  {
   "cell_type": "code",
   "execution_count": 35,
   "id": "f230c0e8-7f38-4944-b8c6-4a985d44d41d",
   "metadata": {},
   "outputs": [
    {
     "name": "stdout",
     "output_type": "stream",
     "text": [
      "This is line 1\n",
      "This is Line 2\n",
      "This the Line 3, the last Line.\n"
     ]
    }
   ],
   "source": [
    " #Multi Line String\n",
    "a = \"\"\"This is line 1\n",
    "This is Line 2\n",
    "This the Line 3, the last Line.\"\"\"\n",
    "print(a)"
   ]
  },
  {
   "cell_type": "code",
   "execution_count": 53,
   "id": "f1bf5e73-e968-4f89-bc9d-25ae5a545a91",
   "metadata": {},
   "outputs": [
    {
     "name": "stdout",
     "output_type": "stream",
     "text": [
      "e of \n",
      " Thro\n",
      "15\n",
      "5\n"
     ]
    }
   ],
   "source": [
    "#Indexing, Negative Index and Slicing\n",
    "\"\"\"Indexing starts from 0 in python, indexing starts from 1 in MatplotLib.\n",
    "Strings are immutable, slicing is more popular in mutable data structures.\"\"\"\n",
    "b = \"Game of Thrones\"\n",
    "print(b[3:8]) #first index character (3) will be printed but the last character index (8) will not be printed\n",
    "print(b[-8:-3]) #character at -3 will not be printed, character at -8 will be printed\n",
    "print(len(b))\n",
    "print(len(a[3:8]))"
   ]
  },
  {
   "cell_type": "code",
   "execution_count": 47,
   "id": "e96eee4f-ca2a-4003-8421-6b8a657f336e",
   "metadata": {},
   "outputs": [
    {
     "data": {
      "text/plain": [
       "'e of '"
      ]
     },
     "execution_count": 47,
     "metadata": {},
     "output_type": "execute_result"
    }
   ],
   "source": [
    "b[3:8]"
   ]
  },
  {
   "cell_type": "code",
   "execution_count": 49,
   "id": "3d707119-b745-43fd-873f-6bb5891578c1",
   "metadata": {},
   "outputs": [
    {
     "data": {
      "text/plain": [
       "' Thro'"
      ]
     },
     "execution_count": 49,
     "metadata": {},
     "output_type": "execute_result"
    }
   ],
   "source": [
    "b[-8:-3]"
   ]
  },
  {
   "cell_type": "code",
   "execution_count": 51,
   "id": "04d55fe5-e91f-4ba1-887f-13b7dadda302",
   "metadata": {},
   "outputs": [
    {
     "data": {
      "text/plain": [
       "15"
      ]
     },
     "execution_count": 51,
     "metadata": {},
     "output_type": "execute_result"
    }
   ],
   "source": [
    "len(b)"
   ]
  },
  {
   "cell_type": "code",
   "execution_count": 55,
   "id": "2ee80c95-e905-4e58-bfce-b10e9a2ffcdd",
   "metadata": {},
   "outputs": [
    {
     "data": {
      "text/plain": [
       "'Gm fTr'"
      ]
     },
     "execution_count": 55,
     "metadata": {},
     "output_type": "execute_result"
    }
   ],
   "source": [
    "b[0:12:2]"
   ]
  },
  {
   "cell_type": "code",
   "execution_count": 67,
   "id": "d230465b-64da-40fb-adc4-f745b17fbee1",
   "metadata": {},
   "outputs": [
    {
     "name": "stdout",
     "output_type": "stream",
     "text": [
      "Game of Thrones\n"
     ]
    },
    {
     "data": {
      "text/plain": [
       "'Game of Thro'"
      ]
     },
     "execution_count": 67,
     "metadata": {},
     "output_type": "execute_result"
    }
   ],
   "source": [
    "#Slicing Syntax\n",
    "#b[startIndex:endIndex:stepSize]\n",
    "print(b)\n",
    "b[:12]"
   ]
  },
  {
   "cell_type": "code",
   "execution_count": 61,
   "id": "22f89eaf-c4a2-4306-adfc-a80963548c60",
   "metadata": {},
   "outputs": [
    {
     "data": {
      "text/plain": [
       "'e of Thrones'"
      ]
     },
     "execution_count": 61,
     "metadata": {},
     "output_type": "execute_result"
    }
   ],
   "source": [
    "b[3:]"
   ]
  },
  {
   "cell_type": "code",
   "execution_count": 71,
   "id": "ebaf6413-5ff4-4d18-96ec-f81f13300b28",
   "metadata": {},
   "outputs": [
    {
     "data": {
      "text/plain": [
       "'e of Thro'"
      ]
     },
     "execution_count": 71,
     "metadata": {},
     "output_type": "execute_result"
    }
   ],
   "source": [
    "b[3:12]"
   ]
  },
  {
   "cell_type": "code",
   "execution_count": 73,
   "id": "dea8d281-b407-46af-b8e8-ae8de571e585",
   "metadata": {},
   "outputs": [
    {
     "data": {
      "text/plain": [
       "'senorhT fo emaG'"
      ]
     },
     "execution_count": 73,
     "metadata": {},
     "output_type": "execute_result"
    }
   ],
   "source": [
    "b[::-1]"
   ]
  },
  {
   "cell_type": "code",
   "execution_count": 75,
   "id": "7279f07c-66eb-4960-889a-4cc0e6e7fbbe",
   "metadata": {},
   "outputs": [],
   "source": [
    "#Functions in strings\n",
    "s = \"   A lot OF Spaces at The    beGinning and end    \"\n",
    "t = s.strip()"
   ]
  },
  {
   "cell_type": "code",
   "execution_count": 77,
   "id": "c1bbb1ac-3558-4607-ab62-080a9e3c5e4b",
   "metadata": {},
   "outputs": [
    {
     "name": "stdout",
     "output_type": "stream",
     "text": [
      "   A lot OF Spaces at The    beGinning and end    \n"
     ]
    }
   ],
   "source": [
    "print(s)"
   ]
  },
  {
   "cell_type": "code",
   "execution_count": 79,
   "id": "b52cb09e-0be9-4e83-b78f-d7e9c509bbc8",
   "metadata": {},
   "outputs": [
    {
     "name": "stdout",
     "output_type": "stream",
     "text": [
      "A lot OF Spaces at The    beGinning and end\n"
     ]
    }
   ],
   "source": [
    "print(t)"
   ]
  },
  {
   "cell_type": "code",
   "execution_count": 81,
   "id": "56eae87a-a22f-4c7b-b73d-8335029886eb",
   "metadata": {},
   "outputs": [
    {
     "name": "stdout",
     "output_type": "stream",
     "text": [
      "a lot of spaces at the    beginning and end\n"
     ]
    }
   ],
   "source": [
    "print(t.lower())"
   ]
  },
  {
   "cell_type": "code",
   "execution_count": 83,
   "id": "d890b1ed-fa5b-4200-9b18-08330245973a",
   "metadata": {},
   "outputs": [
    {
     "name": "stdout",
     "output_type": "stream",
     "text": [
      "A LOT OF SPACES AT THE    BEGINNING AND END\n"
     ]
    }
   ],
   "source": [
    "print(t.upper())"
   ]
  },
  {
   "cell_type": "code",
   "execution_count": 85,
   "id": "15287d06-63a9-475b-97bc-b22ae3f43ddc",
   "metadata": {},
   "outputs": [
    {
     "name": "stdout",
     "output_type": "stream",
     "text": [
      ",,,A,lot,OF,Spaces,at,The,,,,beGinning,and,end,,,,\n"
     ]
    }
   ],
   "source": [
    "print(s.replace(\" \", \",\"))"
   ]
  },
  {
   "cell_type": "code",
   "execution_count": 91,
   "id": "af9ec707-bc89-4c54-a2af-ce87552604c4",
   "metadata": {},
   "outputs": [
    {
     "name": "stdout",
     "output_type": "stream",
     "text": [
      " space  space  space A space lot space OF space Spaces space at space The space  space  space  space beGinning space and space end space  space  space  space \n"
     ]
    }
   ],
   "source": [
    "print(s.replace(\" \", \" space \"))"
   ]
  },
  {
   "cell_type": "code",
   "execution_count": 95,
   "id": "79f7104b-d9bb-4ffa-b095-87a36036ad36",
   "metadata": {},
   "outputs": [
    {
     "name": "stdout",
     "output_type": "stream",
     "text": [
      "['', '', '', 'A', 'lot', 'OF', 'Spaces', 'at', 'The', '', '', '', 'beGinning', 'and', 'end', '', '', '', '']\n"
     ]
    }
   ],
   "source": [
    "L = s.split(\" \")\n",
    "print(L)"
   ]
  },
  {
   "cell_type": "code",
   "execution_count": 97,
   "id": "5dcd5908-9c52-492b-8658-1e63394b88f2",
   "metadata": {},
   "outputs": [],
   "source": [
    "#Press a. \"tab button\" to see all the functions of the string adn what it is capable of. \n",
    "#Press a. \"?\" to see it's documentation"
   ]
  },
  {
   "cell_type": "code",
   "execution_count": 101,
   "id": "8ba0f01d-268e-4a23-90a4-f9364dec90e5",
   "metadata": {},
   "outputs": [
    {
     "data": {
      "text/plain": [
       "\u001b[0;31mSignature:\u001b[0m \u001b[0ma\u001b[0m\u001b[0;34m.\u001b[0m\u001b[0mcenter\u001b[0m\u001b[0;34m(\u001b[0m\u001b[0mwidth\u001b[0m\u001b[0;34m,\u001b[0m \u001b[0mfillchar\u001b[0m\u001b[0;34m=\u001b[0m\u001b[0;34m' '\u001b[0m\u001b[0;34m,\u001b[0m \u001b[0;34m/\u001b[0m\u001b[0;34m)\u001b[0m\u001b[0;34m\u001b[0m\u001b[0;34m\u001b[0m\u001b[0m\n",
       "\u001b[0;31mDocstring:\u001b[0m\n",
       "Return a centered string of length width.\n",
       "\n",
       "Padding is done using the specified fill character (default is a space).\n",
       "\u001b[0;31mType:\u001b[0m      builtin_function_or_method"
      ]
     },
     "metadata": {},
     "output_type": "display_data"
    }
   ],
   "source": [
    "a.center?"
   ]
  },
  {
   "cell_type": "code",
   "execution_count": null,
   "id": "ac607f5a-ae0c-4737-a219-1d026264dbd3",
   "metadata": {},
   "outputs": [],
   "source": []
  }
 ],
 "metadata": {
  "kernelspec": {
   "display_name": "Python [conda env:base] *",
   "language": "python",
   "name": "conda-base-py"
  },
  "language_info": {
   "codemirror_mode": {
    "name": "ipython",
    "version": 3
   },
   "file_extension": ".py",
   "mimetype": "text/x-python",
   "name": "python",
   "nbconvert_exporter": "python",
   "pygments_lexer": "ipython3",
   "version": "3.12.7"
  }
 },
 "nbformat": 4,
 "nbformat_minor": 5
}
