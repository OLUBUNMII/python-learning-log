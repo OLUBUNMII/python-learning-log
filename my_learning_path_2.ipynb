{
 "cells": [
  {
   "cell_type": "code",
   "execution_count": 7,
   "id": "0054bfca-13c7-4330-a2a6-ee7549d5dc78",
   "metadata": {},
   "outputs": [
    {
     "name": "stdin",
     "output_type": "stream",
     "text": [
      "Enter Marks : 68.5\n"
     ]
    },
    {
     "name": "stdout",
     "output_type": "stream",
     "text": [
      "Below Average\n"
     ]
    }
   ],
   "source": [
    "a = float(input(\"Enter Marks :\"))\n",
    "if a >= 85:\n",
    "    print(\"A Grade\")\n",
    "elif (a < 85) and (a >= 80):\n",
    "    print(\"B grade\")\n",
    "elif (a < 80) and (a >= 70):\n",
    "    print(\"C grade\")\n",
    "else: \n",
    "    print(\"Below Average\")\n",
    "    "
   ]
  },
  {
   "cell_type": "code",
   "execution_count": 3,
   "id": "29a27740-eaf0-4271-9b4c-c0b525f2123a",
   "metadata": {},
   "outputs": [
    {
     "name": "stdin",
     "output_type": "stream",
     "text": [
      "Enter Number: -87.3\n"
     ]
    },
    {
     "name": "stdout",
     "output_type": "stream",
     "text": [
      "Odd\n"
     ]
    }
   ],
   "source": [
    "#instruction\n",
    "\"\"\"\n",
    "Determine if an integer is an even or odd number\n",
    "\"\"\"\n",
    "x = float(input(\"Enter Number:\"))\n",
    "if x%2 == 0:\n",
    "    print(\"EVEN\")\n",
    "else:\n",
    "    print(\"Odd\")"
   ]
  },
  {
   "cell_type": "code",
   "execution_count": 21,
   "id": "a4e86c02-deac-4d66-b566-658a0063c66e",
   "metadata": {},
   "outputs": [
    {
     "name": "stdin",
     "output_type": "stream",
     "text": [
      "Max iterations : 6.5\n"
     ]
    },
    {
     "name": "stdout",
     "output_type": "stream",
     "text": [
      "1\n",
      "2\n",
      "3\n",
      "4\n",
      "5\n",
      "6\n",
      "done\n"
     ]
    }
   ],
   "source": [
    "#loops\n",
    "n = float(input('Max iterations :'))\n",
    "i = 1\n",
    "while i < n:\n",
    "    print(i)\n",
    "    i += 1\n",
    "print('done')"
   ]
  },
  {
   "cell_type": "code",
   "execution_count": 83,
   "id": "da477659-6c58-41da-b916-3cbd95348ded",
   "metadata": {},
   "outputs": [
    {
     "name": "stdout",
     "output_type": "stream",
     "text": [
      "[-5, 1, 2, 2, 3, 4, 7, 9]\n"
     ]
    }
   ],
   "source": [
    "\"\"\"I want to sort the list [l] from smallest to largest\"\"\"\n",
    "l = [1,2,4,-5,7,9,3,2]\n",
    "for j in range(len(l)):\n",
    "    m = l[j]\n",
    "    idx = j\n",
    "    c = j\n",
    "    for i in range(j, len(l)):\n",
    "        if l[i]<m:\n",
    "            m=l[i]\n",
    "            idx=c\n",
    "        c+=1\n",
    "    tmp = l[j]\n",
    "    l[j] = m\n",
    "    l[idx] = tmp\n",
    "print(l)\n",
    "               "
   ]
  },
  {
   "cell_type": "code",
   "execution_count": 107,
   "id": "b24f60d7-01b4-4fed-abeb-4575ca3cc697",
   "metadata": {},
   "outputs": [],
   "source": [
    "def printMessage(msg):\n",
    "    \"\"\"This function prints the message supplied by the user.\n",
    "    If a format other than a string is entered, it should display an error message\"\"\"\n",
    "    if isinstance(msg,str):\n",
    "        print(msg)\n",
    "    else:\n",
    "        print(\"Your format type is not a string:\" ,type(msg))"
   ]
  },
  {
   "cell_type": "code",
   "execution_count": 99,
   "id": "8b616b3c-1292-4031-90a2-c08f1d045e2c",
   "metadata": {},
   "outputs": [
    {
     "name": "stdout",
     "output_type": "stream",
     "text": [
      "Your format type is not a string: <class 'int'>\n"
     ]
    }
   ],
   "source": [
    "printMessage(23)"
   ]
  },
  {
   "cell_type": "code",
   "execution_count": 105,
   "id": "a8ebdc84-bb2a-4570-a1b3-87e64dfaac92",
   "metadata": {},
   "outputs": [
    {
     "name": "stdout",
     "output_type": "stream",
     "text": [
      "Testing Function\n"
     ]
    }
   ],
   "source": [
    "printMessage(\"Testing Function\")"
   ]
  },
  {
   "cell_type": "code",
   "execution_count": 109,
   "id": "73155713-f446-42fd-8200-cc819f76d224",
   "metadata": {},
   "outputs": [],
   "source": [
    "Nife = \"I am Oluwanifesimi, the owner of this account\""
   ]
  },
  {
   "cell_type": "code",
   "execution_count": 115,
   "id": "3caedad3-3253-4836-ab84-e1d40a5ddc9b",
   "metadata": {},
   "outputs": [
    {
     "name": "stdout",
     "output_type": "stream",
     "text": [
      "I am Oluwanifesimi, the owner of this account\n"
     ]
    }
   ],
   "source": [
    "printMessage(Nife)"
   ]
  },
  {
   "cell_type": "code",
   "execution_count": 119,
   "id": "4dd4a914-c3f9-4a9d-b651-bcd59721065b",
   "metadata": {},
   "outputs": [
    {
     "data": {
      "text/plain": [
       "\u001b[0;31mSignature:\u001b[0m \u001b[0mprintMessage\u001b[0m\u001b[0;34m(\u001b[0m\u001b[0mmsg\u001b[0m\u001b[0;34m)\u001b[0m\u001b[0;34m\u001b[0m\u001b[0;34m\u001b[0m\u001b[0m\n",
       "\u001b[0;31mSource:\u001b[0m   \n",
       "\u001b[0;32mdef\u001b[0m \u001b[0mprintMessage\u001b[0m\u001b[0;34m(\u001b[0m\u001b[0mmsg\u001b[0m\u001b[0;34m)\u001b[0m\u001b[0;34m:\u001b[0m\u001b[0;34m\u001b[0m\n",
       "\u001b[0;34m\u001b[0m    \u001b[0;34m\"\"\"This function prints the message supplied by the user.\u001b[0m\n",
       "\u001b[0;34m    If a format other than a string is entered, it should display an error message\"\"\"\u001b[0m\u001b[0;34m\u001b[0m\n",
       "\u001b[0;34m\u001b[0m    \u001b[0;32mif\u001b[0m \u001b[0misinstance\u001b[0m\u001b[0;34m(\u001b[0m\u001b[0mmsg\u001b[0m\u001b[0;34m,\u001b[0m\u001b[0mstr\u001b[0m\u001b[0;34m)\u001b[0m\u001b[0;34m:\u001b[0m\u001b[0;34m\u001b[0m\n",
       "\u001b[0;34m\u001b[0m        \u001b[0mprint\u001b[0m\u001b[0;34m(\u001b[0m\u001b[0mmsg\u001b[0m\u001b[0;34m)\u001b[0m\u001b[0;34m\u001b[0m\n",
       "\u001b[0;34m\u001b[0m    \u001b[0;32melse\u001b[0m\u001b[0;34m:\u001b[0m\u001b[0;34m\u001b[0m\n",
       "\u001b[0;34m\u001b[0m        \u001b[0mprint\u001b[0m\u001b[0;34m(\u001b[0m\u001b[0;34m\"Your format type is not a string:\"\u001b[0m \u001b[0;34m,\u001b[0m\u001b[0mtype\u001b[0m\u001b[0;34m(\u001b[0m\u001b[0mmsg\u001b[0m\u001b[0;34m)\u001b[0m\u001b[0;34m)\u001b[0m\u001b[0;34m\u001b[0m\u001b[0;34m\u001b[0m\u001b[0m\n",
       "\u001b[0;31mFile:\u001b[0m      /var/folders/5h/z27xfcwn3k332700bv750kb80000gn/T/ipykernel_2091/2195884305.py\n",
       "\u001b[0;31mType:\u001b[0m      function"
      ]
     },
     "metadata": {},
     "output_type": "display_data"
    }
   ],
   "source": [
    "printMessage??"
   ]
  },
  {
   "cell_type": "code",
   "execution_count": null,
   "id": "65c60146-5307-41ff-af65-ca4192aaf0d9",
   "metadata": {},
   "outputs": [],
   "source": []
  }
 ],
 "metadata": {
  "kernelspec": {
   "display_name": "Python [conda env:base] *",
   "language": "python",
   "name": "conda-base-py"
  },
  "language_info": {
   "codemirror_mode": {
    "name": "ipython",
    "version": 3
   },
   "file_extension": ".py",
   "mimetype": "text/x-python",
   "name": "python",
   "nbconvert_exporter": "python",
   "pygments_lexer": "ipython3",
   "version": "3.12.7"
  }
 },
 "nbformat": 4,
 "nbformat_minor": 5
}
