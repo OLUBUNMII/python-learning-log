{
 "cells": [
  {
   "cell_type": "code",
   "execution_count": 7,
   "id": "0054bfca-13c7-4330-a2a6-ee7549d5dc78",
   "metadata": {},
   "outputs": [
    {
     "name": "stdin",
     "output_type": "stream",
     "text": [
      "Enter Marks : 68.5\n"
     ]
    },
    {
     "name": "stdout",
     "output_type": "stream",
     "text": [
      "Below Average\n"
     ]
    }
   ],
   "source": [
    "a = float(input(\"Enter Marks :\"))\n",
    "if a >= 85:\n",
    "    print(\"A Grade\")\n",
    "elif (a < 85) and (a >= 80):\n",
    "    print(\"B grade\")\n",
    "elif (a < 80) and (a >= 70):\n",
    "    print(\"C grade\")\n",
    "else: \n",
    "    print(\"Below Average\")\n",
    "    "
   ]
  },
  {
   "cell_type": "code",
   "execution_count": 3,
   "id": "29a27740-eaf0-4271-9b4c-c0b525f2123a",
   "metadata": {},
   "outputs": [
    {
     "name": "stdin",
     "output_type": "stream",
     "text": [
      "Enter Number: -87.3\n"
     ]
    },
    {
     "name": "stdout",
     "output_type": "stream",
     "text": [
      "Odd\n"
     ]
    }
   ],
   "source": [
    "#instruction\n",
    "\"\"\"\n",
    "Determine if an integer is an even or odd number\n",
    "\"\"\"\n",
    "x = float(input(\"Enter Number:\"))\n",
    "if x%2 == 0:\n",
    "    print(\"EVEN\")\n",
    "else:\n",
    "    print(\"Odd\")"
   ]
  },
  {
   "cell_type": "code",
   "execution_count": 21,
   "id": "a4e86c02-deac-4d66-b566-658a0063c66e",
   "metadata": {},
   "outputs": [
    {
     "name": "stdin",
     "output_type": "stream",
     "text": [
      "Max iterations : 6.5\n"
     ]
    },
    {
     "name": "stdout",
     "output_type": "stream",
     "text": [
      "1\n",
      "2\n",
      "3\n",
      "4\n",
      "5\n",
      "6\n",
      "done\n"
     ]
    }
   ],
   "source": [
    "#loops\n",
    "n = float(input('Max iterations :'))\n",
    "i = 1\n",
    "while i < n:\n",
    "    print(i)\n",
    "    i += 1\n",
    "print('done')"
   ]
  },
  {
   "cell_type": "code",
   "execution_count": 83,
   "id": "da477659-6c58-41da-b916-3cbd95348ded",
   "metadata": {},
   "outputs": [
    {
     "name": "stdout",
     "output_type": "stream",
     "text": [
      "[-5, 1, 2, 2, 3, 4, 7, 9]\n"
     ]
    }
   ],
   "source": [
    "\"\"\"I want to sort the list [l] from smallest to largest\"\"\"\n",
    "l = [1,2,4,-5,7,9,3,2]\n",
    "for j in range(len(l)):\n",
    "    m = l[j]\n",
    "    idx = j\n",
    "    c = j\n",
    "    for i in range(j, len(l)):\n",
    "        if l[i]<m:\n",
    "            m=l[i]\n",
    "            idx=c\n",
    "        c+=1\n",
    "    tmp = l[j]\n",
    "    l[j] = m\n",
    "    l[idx] = tmp\n",
    "print(l)\n",
    "               "
   ]
  },
  {
   "cell_type": "code",
   "execution_count": null,
   "id": "b24f60d7-01b4-4fed-abeb-4575ca3cc697",
   "metadata": {},
   "outputs": [],
   "source": []
  }
 ],
 "metadata": {
  "kernelspec": {
   "display_name": "Python [conda env:base] *",
   "language": "python",
   "name": "conda-base-py"
  },
  "language_info": {
   "codemirror_mode": {
    "name": "ipython",
    "version": 3
   },
   "file_extension": ".py",
   "mimetype": "text/x-python",
   "name": "python",
   "nbconvert_exporter": "python",
   "pygments_lexer": "ipython3",
   "version": "3.12.7"
  }
 },
 "nbformat": 4,
 "nbformat_minor": 5
}
